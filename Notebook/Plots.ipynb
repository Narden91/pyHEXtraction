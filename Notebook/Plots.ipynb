{
 "cells": [
  {
   "cell_type": "code",
   "execution_count": null,
   "id": "initial_id",
   "metadata": {
    "ExecuteTime": {
     "end_time": "2024-02-22T19:24:24.218512Z",
     "start_time": "2024-02-22T19:24:24.203912400Z"
    },
    "collapsed": true
   },
   "outputs": [],
   "source": [
    "import numpy as np\n",
    "import matplotlib.pyplot as plt\n",
    "import pandas as pd\n",
    "import os\n",
    "import seaborn as sns"
   ]
  },
  {
   "cell_type": "markdown",
   "id": "1a962c160ea84040",
   "metadata": {
    "collapsed": false
   },
   "source": [
    "## KDE plot of the mean pressure by Label"
   ]
  },
  {
   "cell_type": "code",
   "execution_count": null,
   "id": "d6a0b35e87250c8d",
   "metadata": {
    "ExecuteTime": {
     "end_time": "2024-02-22T19:30:38.556220700Z",
     "start_time": "2024-02-22T19:30:38.547035100Z"
    },
    "collapsed": false
   },
   "outputs": [],
   "source": [
    "def kde_plot(data, task_num, output_folder):\n",
    "    # Normalize pressure between 0 and 1\n",
    "    data['Pressure'] = (data['Pressure'] - data['Pressure'].min()) / (data['Pressure'].max() - data['Pressure'].min())\n",
    "    # mean_values = data.groupby('Label')['Pressure'].mean().reset_index()\n",
    "    # \n",
    "    # print(f\"Mean values: \\n {mean_values}\")\n",
    "    # print(f\"data: \\n {data}\")\n",
    "    plt.figure(figsize=(10, 6))\n",
    "    sns.kdeplot(data=data, x='Pressure', hue='Label', fill=True, palette=\"muted\") # palette=\"coolwarm\", \"muted\", \"viridis\", \"rocket\"\n",
    "    plt.xlim(0, 1)\n",
    "    plt.title(f'KDE of Pressure of the subjects - Task {task_num}')\n",
    "    plt.xlabel('Normalized Pressure')\n",
    "    plt.ylabel('Density')\n",
    "    \n",
    "    output_plot_kde = os.path.join(output_folder, 'KDE_plots')    \n",
    "    os.makedirs(output_plot_kde, exist_ok=True)\n",
    "    \n",
    "    # save the plot\n",
    "    plt.savefig(os.path.join(output_plot_kde, f'Kde_pressure_mean_Task_{task_num}.png'))\n",
    "    plt.savefig(os.path.join(output_plot_kde, f'Kde_pressure_mean_Task_{task_num}.svg'))"
   ]
  },
  {
   "cell_type": "markdown",
   "id": "79a0beac0532c685",
   "metadata": {
    "collapsed": false
   },
   "source": [
    "# Bar plot of the mean time InAir and OnPaper"
   ]
  },
  {
   "cell_type": "code",
   "execution_count": null,
   "id": "d74dc6777353b847",
   "metadata": {
    "ExecuteTime": {
     "end_time": "2024-02-22T19:28:50.118028800Z",
     "start_time": "2024-02-22T19:28:50.098328700Z"
    },
    "collapsed": false
   },
   "outputs": [],
   "source": [
    "def bar_plot(data, task_num, output_folder):\n",
    "    data['Status'] = data['Pressure'].apply(lambda x: 'On-paper' if x != 0 else 'In-air')\n",
    "    # Calculate the mean time spent in-air and on-paper for each label\n",
    "    mean_times = df.groupby(['Label', 'Status'])['Time'].mean().reset_index()\n",
    "    \n",
    "    # Pivot the table for easier plotting\n",
    "    mean_times_pivot = mean_times.pivot(index='Label', columns='Status', values='Time').reset_index()\n",
    "    \n",
    "    # Create the bar plot\n",
    "    plt.figure(figsize=(10, 6))\n",
    "    sns.barplot(data=mean_times, x='Label', y='Time', hue='Status', palette='muted')\n",
    "    plt.title(f'Mean Time Spent In-air vs On-paper by Class for Task {task_num}')\n",
    "    plt.xlabel('Label')\n",
    "    plt.ylabel('Mean Time [s]')\n",
    "    plt.xticks(rotation=0) \n",
    "    \n",
    "    output_barplot = os.path.join(output_folder, 'Barplot')    \n",
    "    os.makedirs(output_barplot, exist_ok=True)\n",
    "    \n",
    "    # save the plot\n",
    "    plt.savefig(os.path.join(output_barplot, f'BarPlot_InAirOnPaper_mean_time_Task_{task_num}.png'))\n",
    "    plt.savefig(os.path.join(output_barplot, f'BarPlot_InAirOnPaper_mean_time_Task_{task_num}.svg'))\n",
    "    \n",
    "    plt.tight_layout()"
   ]
  },
  {
   "cell_type": "code",
   "execution_count": null,
   "id": "88e0fd285e310579",
   "metadata": {
    "ExecuteTime": {
     "end_time": "2024-02-22T19:30:44.021260600Z",
     "start_time": "2024-02-22T19:30:41.818465500Z"
    },
    "collapsed": false
   },
   "outputs": [],
   "source": [
    "task_list = [10,11,12,13,21] # [10,11,12,13,21]\n",
    "\n",
    "for task in task_list:\n",
    "    path = r'C:\\Users\\Emanuele\\Documents\\Progetti Python\\pyHEXtraction\\Output_csv_for_plots\\Task_' + str(task)\n",
    "    output_plot = r'C:\\Users\\Emanuele\\Documents\\Progetti Python\\pyHEXtraction\\Output_plots'\n",
    "    files = os.listdir(path)\n",
    "    files = [f for f in files if f.endswith('.csv')]\n",
    "    \n",
    "    # Example: From Subject_xx.csv -> xx\n",
    "    files_sub = [f.split('_')[1].split('.')[0] for f in files]\n",
    "    files_subject = [int(f) for f in files_sub]\n",
    "    files = [x for _, x in sorted(zip(files_subject, files))]\n",
    "    \n",
    "    df = pd.DataFrame()\n",
    "    \n",
    "    for file in files:\n",
    "        df_temp = pd.read_csv(os.path.join(path, file))\n",
    "        df = pd.concat([df, df_temp])\n",
    "    \n",
    "    kde_plot(df, task, output_plot)\n",
    "    bar_plot(df, task, output_plot)"
   ]
  }
 ],
 "metadata": {
  "kernelspec": {
   "display_name": "Python 3",
   "language": "python",
   "name": "python3"
  },
  "language_info": {
   "codemirror_mode": {
    "name": "ipython",
    "version": 2
   },
   "file_extension": ".py",
   "mimetype": "text/x-python",
   "name": "python",
   "nbconvert_exporter": "python",
   "pygments_lexer": "ipython2",
   "version": "2.7.6"
  }
 },
 "nbformat": 4,
 "nbformat_minor": 5
}
